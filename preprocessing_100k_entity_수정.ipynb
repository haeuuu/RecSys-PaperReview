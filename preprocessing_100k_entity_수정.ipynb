{
  "nbformat": 4,
  "nbformat_minor": 0,
  "metadata": {
    "kernelspec": {
      "display_name": "Python 3",
      "language": "python",
      "name": "python3"
    },
    "language_info": {
      "codemirror_mode": {
        "name": "ipython",
        "version": 3
      },
      "file_extension": ".py",
      "mimetype": "text/x-python",
      "name": "python",
      "nbconvert_exporter": "python",
      "pygments_lexer": "ipython3",
      "version": "3.7.1"
    },
    "toc": {
      "base_numbering": 1,
      "nav_menu": {},
      "number_sections": true,
      "sideBar": true,
      "skip_h1_title": false,
      "title_cell": "Table of Contents",
      "title_sidebar": "Contents",
      "toc_cell": false,
      "toc_position": {},
      "toc_section_display": true,
      "toc_window_display": false
    },
    "varInspector": {
      "cols": {
        "lenName": 16,
        "lenType": 16,
        "lenVar": 40
      },
      "kernels_config": {
        "python": {
          "delete_cmd_postfix": "",
          "delete_cmd_prefix": "del ",
          "library": "var_list.py",
          "varRefreshCmd": "print(var_dic_list())"
        },
        "r": {
          "delete_cmd_postfix": ") ",
          "delete_cmd_prefix": "rm(",
          "library": "var_list.r",
          "varRefreshCmd": "cat(var_dic_list()) "
        }
      },
      "types_to_exclude": [
        "module",
        "function",
        "builtin_function_or_method",
        "instance",
        "_Feature"
      ],
      "window_display": false
    },
    "colab": {
      "name": "preprocessing 100k entity 수정.ipynb",
      "provenance": [],
      "collapsed_sections": [],
      "machine_shape": "hm"
    }
  },
  "cells": [
    {
      "cell_type": "code",
      "metadata": {
        "id": "K82XtIkpZzpV",
        "outputId": "9a107d22-4d5c-4392-ad42-618748189eaa",
        "colab": {
          "base_uri": "https://localhost:8080/",
          "height": 845
        }
      },
      "source": [
        "!wget --output-document=ml-100k.zip http://www.grouplens.org/system/files/ml-100k.zip\n",
        "!unzip ml-100k.zip"
      ],
      "execution_count": 2,
      "outputs": [
        {
          "output_type": "stream",
          "text": [
            "--2020-10-17 15:53:22--  http://www.grouplens.org/system/files/ml-100k.zip\n",
            "Resolving www.grouplens.org (www.grouplens.org)... 128.101.34.235\n",
            "Connecting to www.grouplens.org (www.grouplens.org)|128.101.34.235|:80... connected.\n",
            "HTTP request sent, awaiting response... 301 Moved Permanently\n",
            "Location: https://grouplens.org/system/files/ml-100k.zip [following]\n",
            "--2020-10-17 15:53:22--  https://grouplens.org/system/files/ml-100k.zip\n",
            "Resolving grouplens.org (grouplens.org)... 128.101.34.235\n",
            "Connecting to grouplens.org (grouplens.org)|128.101.34.235|:443... connected.\n",
            "HTTP request sent, awaiting response... 301 Moved Permanently\n",
            "Location: http://files.grouplens.org/papers/ml-100k.zip [following]\n",
            "--2020-10-17 15:53:23--  http://files.grouplens.org/papers/ml-100k.zip\n",
            "Resolving files.grouplens.org (files.grouplens.org)... 128.101.65.152\n",
            "Connecting to files.grouplens.org (files.grouplens.org)|128.101.65.152|:80... connected.\n",
            "HTTP request sent, awaiting response... 200 OK\n",
            "Length: 4924029 (4.7M) [application/zip]\n",
            "Saving to: ‘ml-100k.zip’\n",
            "\n",
            "ml-100k.zip         100%[===================>]   4.70M  27.1MB/s    in 0.2s    \n",
            "\n",
            "2020-10-17 15:53:23 (27.1 MB/s) - ‘ml-100k.zip’ saved [4924029/4924029]\n",
            "\n",
            "Archive:  ml-100k.zip\n",
            "   creating: ml-100k/\n",
            "  inflating: ml-100k/allbut.pl       \n",
            "  inflating: ml-100k/mku.sh          \n",
            "  inflating: ml-100k/README          \n",
            "  inflating: ml-100k/u.data          \n",
            "  inflating: ml-100k/u.genre         \n",
            "  inflating: ml-100k/u.info          \n",
            "  inflating: ml-100k/u.item          \n",
            "  inflating: ml-100k/u.occupation    \n",
            "  inflating: ml-100k/u.user          \n",
            "  inflating: ml-100k/u1.base         \n",
            "  inflating: ml-100k/u1.test         \n",
            "  inflating: ml-100k/u2.base         \n",
            "  inflating: ml-100k/u2.test         \n",
            "  inflating: ml-100k/u3.base         \n",
            "  inflating: ml-100k/u3.test         \n",
            "  inflating: ml-100k/u4.base         \n",
            "  inflating: ml-100k/u4.test         \n",
            "  inflating: ml-100k/u5.base         \n",
            "  inflating: ml-100k/u5.test         \n",
            "  inflating: ml-100k/ua.base         \n",
            "  inflating: ml-100k/ua.test         \n",
            "  inflating: ml-100k/ub.base         \n",
            "  inflating: ml-100k/ub.test         \n"
          ],
          "name": "stdout"
        }
      ]
    },
    {
      "cell_type": "markdown",
      "metadata": {
        "id": "ukchLJQrurhi"
      },
      "source": [
        "This data set consists of:  \n",
        "\t* 100,000 ratings (1-5) from 943 users on 1682 movies.   \n",
        "\t* Each user has rated at least 20 movies.   "
      ]
    },
    {
      "cell_type": "code",
      "metadata": {
        "id": "oPAbPot8Zr0d",
        "outputId": "b46e443b-241c-4adf-f862-26688d963e52",
        "colab": {
          "base_uri": "https://localhost:8080/",
          "height": 898
        }
      },
      "source": [
        "import pandas as pd\n",
        "\n",
        "direc = '/content/ml-100k/'\n",
        "\n",
        "headers = \"movie id | movie title | release date | video release date | IMDb URL | unknown | Action | Adventure | Animation | Children's | Comedy | Crime | Documentary | Drama | Fantasy | Film-Noir | Horror | Musical | Mystery | Romance | Sci-Fi | Thriller | War | Western | \"\n",
        "movies = pd.read_table(direc + 'u.item',sep = '|',names = headers.split(\" | \"), engine = 'python')\n",
        "display(movies.tail())\n",
        "\n",
        "ratings_raw = pd.read_table(direc + 'ua.base',sep = '\\t', names = ['user_id','movie_id','rating','timestamp'], engine = 'python')\n",
        "display(ratings_raw)"
      ],
      "execution_count": 1,
      "outputs": [
        {
          "output_type": "display_data",
          "data": {
            "text/html": [
              "<div>\n",
              "<style scoped>\n",
              "    .dataframe tbody tr th:only-of-type {\n",
              "        vertical-align: middle;\n",
              "    }\n",
              "\n",
              "    .dataframe tbody tr th {\n",
              "        vertical-align: top;\n",
              "    }\n",
              "\n",
              "    .dataframe thead th {\n",
              "        text-align: right;\n",
              "    }\n",
              "</style>\n",
              "<table border=\"1\" class=\"dataframe\">\n",
              "  <thead>\n",
              "    <tr style=\"text-align: right;\">\n",
              "      <th></th>\n",
              "      <th>movie id</th>\n",
              "      <th>movie title</th>\n",
              "      <th>release date</th>\n",
              "      <th>video release date</th>\n",
              "      <th>IMDb URL</th>\n",
              "      <th>unknown</th>\n",
              "      <th>Action</th>\n",
              "      <th>Adventure</th>\n",
              "      <th>Animation</th>\n",
              "      <th>Children's</th>\n",
              "      <th>Comedy</th>\n",
              "      <th>Crime</th>\n",
              "      <th>Documentary</th>\n",
              "      <th>Drama</th>\n",
              "      <th>Fantasy</th>\n",
              "      <th>Film-Noir</th>\n",
              "      <th>Horror</th>\n",
              "      <th>Musical</th>\n",
              "      <th>Mystery</th>\n",
              "      <th>Romance</th>\n",
              "      <th>Sci-Fi</th>\n",
              "      <th>Thriller</th>\n",
              "      <th>War</th>\n",
              "      <th>Western</th>\n",
              "      <th></th>\n",
              "    </tr>\n",
              "  </thead>\n",
              "  <tbody>\n",
              "    <tr>\n",
              "      <th>1677</th>\n",
              "      <td>1678</td>\n",
              "      <td>Mat' i syn (1997)</td>\n",
              "      <td>06-Feb-1998</td>\n",
              "      <td>NaN</td>\n",
              "      <td>http://us.imdb.com/M/title-exact?Mat%27+i+syn+...</td>\n",
              "      <td>0</td>\n",
              "      <td>0</td>\n",
              "      <td>0</td>\n",
              "      <td>0</td>\n",
              "      <td>0</td>\n",
              "      <td>0</td>\n",
              "      <td>0</td>\n",
              "      <td>0</td>\n",
              "      <td>1</td>\n",
              "      <td>0</td>\n",
              "      <td>0</td>\n",
              "      <td>0</td>\n",
              "      <td>0</td>\n",
              "      <td>0</td>\n",
              "      <td>0</td>\n",
              "      <td>0</td>\n",
              "      <td>0</td>\n",
              "      <td>0</td>\n",
              "      <td>0</td>\n",
              "      <td>NaN</td>\n",
              "    </tr>\n",
              "    <tr>\n",
              "      <th>1678</th>\n",
              "      <td>1679</td>\n",
              "      <td>B. Monkey (1998)</td>\n",
              "      <td>06-Feb-1998</td>\n",
              "      <td>NaN</td>\n",
              "      <td>http://us.imdb.com/M/title-exact?B%2E+Monkey+(...</td>\n",
              "      <td>0</td>\n",
              "      <td>0</td>\n",
              "      <td>0</td>\n",
              "      <td>0</td>\n",
              "      <td>0</td>\n",
              "      <td>0</td>\n",
              "      <td>0</td>\n",
              "      <td>0</td>\n",
              "      <td>0</td>\n",
              "      <td>0</td>\n",
              "      <td>0</td>\n",
              "      <td>0</td>\n",
              "      <td>0</td>\n",
              "      <td>0</td>\n",
              "      <td>1</td>\n",
              "      <td>0</td>\n",
              "      <td>1</td>\n",
              "      <td>0</td>\n",
              "      <td>0</td>\n",
              "      <td>NaN</td>\n",
              "    </tr>\n",
              "    <tr>\n",
              "      <th>1679</th>\n",
              "      <td>1680</td>\n",
              "      <td>Sliding Doors (1998)</td>\n",
              "      <td>01-Jan-1998</td>\n",
              "      <td>NaN</td>\n",
              "      <td>http://us.imdb.com/Title?Sliding+Doors+(1998)</td>\n",
              "      <td>0</td>\n",
              "      <td>0</td>\n",
              "      <td>0</td>\n",
              "      <td>0</td>\n",
              "      <td>0</td>\n",
              "      <td>0</td>\n",
              "      <td>0</td>\n",
              "      <td>0</td>\n",
              "      <td>1</td>\n",
              "      <td>0</td>\n",
              "      <td>0</td>\n",
              "      <td>0</td>\n",
              "      <td>0</td>\n",
              "      <td>0</td>\n",
              "      <td>1</td>\n",
              "      <td>0</td>\n",
              "      <td>0</td>\n",
              "      <td>0</td>\n",
              "      <td>0</td>\n",
              "      <td>NaN</td>\n",
              "    </tr>\n",
              "    <tr>\n",
              "      <th>1680</th>\n",
              "      <td>1681</td>\n",
              "      <td>You So Crazy (1994)</td>\n",
              "      <td>01-Jan-1994</td>\n",
              "      <td>NaN</td>\n",
              "      <td>http://us.imdb.com/M/title-exact?You%20So%20Cr...</td>\n",
              "      <td>0</td>\n",
              "      <td>0</td>\n",
              "      <td>0</td>\n",
              "      <td>0</td>\n",
              "      <td>0</td>\n",
              "      <td>1</td>\n",
              "      <td>0</td>\n",
              "      <td>0</td>\n",
              "      <td>0</td>\n",
              "      <td>0</td>\n",
              "      <td>0</td>\n",
              "      <td>0</td>\n",
              "      <td>0</td>\n",
              "      <td>0</td>\n",
              "      <td>0</td>\n",
              "      <td>0</td>\n",
              "      <td>0</td>\n",
              "      <td>0</td>\n",
              "      <td>0</td>\n",
              "      <td>NaN</td>\n",
              "    </tr>\n",
              "    <tr>\n",
              "      <th>1681</th>\n",
              "      <td>1682</td>\n",
              "      <td>Scream of Stone (Schrei aus Stein) (1991)</td>\n",
              "      <td>08-Mar-1996</td>\n",
              "      <td>NaN</td>\n",
              "      <td>http://us.imdb.com/M/title-exact?Schrei%20aus%...</td>\n",
              "      <td>0</td>\n",
              "      <td>0</td>\n",
              "      <td>0</td>\n",
              "      <td>0</td>\n",
              "      <td>0</td>\n",
              "      <td>0</td>\n",
              "      <td>0</td>\n",
              "      <td>0</td>\n",
              "      <td>1</td>\n",
              "      <td>0</td>\n",
              "      <td>0</td>\n",
              "      <td>0</td>\n",
              "      <td>0</td>\n",
              "      <td>0</td>\n",
              "      <td>0</td>\n",
              "      <td>0</td>\n",
              "      <td>0</td>\n",
              "      <td>0</td>\n",
              "      <td>0</td>\n",
              "      <td>NaN</td>\n",
              "    </tr>\n",
              "  </tbody>\n",
              "</table>\n",
              "</div>"
            ],
            "text/plain": [
              "      movie id                                movie title  ... Western    \n",
              "1677      1678                          Mat' i syn (1997)  ...       0 NaN\n",
              "1678      1679                           B. Monkey (1998)  ...       0 NaN\n",
              "1679      1680                       Sliding Doors (1998)  ...       0 NaN\n",
              "1680      1681                        You So Crazy (1994)  ...       0 NaN\n",
              "1681      1682  Scream of Stone (Schrei aus Stein) (1991)  ...       0 NaN\n",
              "\n",
              "[5 rows x 25 columns]"
            ]
          },
          "metadata": {
            "tags": []
          }
        },
        {
          "output_type": "display_data",
          "data": {
            "text/html": [
              "<div>\n",
              "<style scoped>\n",
              "    .dataframe tbody tr th:only-of-type {\n",
              "        vertical-align: middle;\n",
              "    }\n",
              "\n",
              "    .dataframe tbody tr th {\n",
              "        vertical-align: top;\n",
              "    }\n",
              "\n",
              "    .dataframe thead th {\n",
              "        text-align: right;\n",
              "    }\n",
              "</style>\n",
              "<table border=\"1\" class=\"dataframe\">\n",
              "  <thead>\n",
              "    <tr style=\"text-align: right;\">\n",
              "      <th></th>\n",
              "      <th>user_id</th>\n",
              "      <th>movie_id</th>\n",
              "      <th>rating</th>\n",
              "      <th>timestamp</th>\n",
              "    </tr>\n",
              "  </thead>\n",
              "  <tbody>\n",
              "    <tr>\n",
              "      <th>0</th>\n",
              "      <td>1</td>\n",
              "      <td>1</td>\n",
              "      <td>5</td>\n",
              "      <td>874965758</td>\n",
              "    </tr>\n",
              "    <tr>\n",
              "      <th>1</th>\n",
              "      <td>1</td>\n",
              "      <td>2</td>\n",
              "      <td>3</td>\n",
              "      <td>876893171</td>\n",
              "    </tr>\n",
              "    <tr>\n",
              "      <th>2</th>\n",
              "      <td>1</td>\n",
              "      <td>3</td>\n",
              "      <td>4</td>\n",
              "      <td>878542960</td>\n",
              "    </tr>\n",
              "    <tr>\n",
              "      <th>3</th>\n",
              "      <td>1</td>\n",
              "      <td>4</td>\n",
              "      <td>3</td>\n",
              "      <td>876893119</td>\n",
              "    </tr>\n",
              "    <tr>\n",
              "      <th>4</th>\n",
              "      <td>1</td>\n",
              "      <td>5</td>\n",
              "      <td>3</td>\n",
              "      <td>889751712</td>\n",
              "    </tr>\n",
              "    <tr>\n",
              "      <th>...</th>\n",
              "      <td>...</td>\n",
              "      <td>...</td>\n",
              "      <td>...</td>\n",
              "      <td>...</td>\n",
              "    </tr>\n",
              "    <tr>\n",
              "      <th>90565</th>\n",
              "      <td>943</td>\n",
              "      <td>1047</td>\n",
              "      <td>2</td>\n",
              "      <td>875502146</td>\n",
              "    </tr>\n",
              "    <tr>\n",
              "      <th>90566</th>\n",
              "      <td>943</td>\n",
              "      <td>1074</td>\n",
              "      <td>4</td>\n",
              "      <td>888640250</td>\n",
              "    </tr>\n",
              "    <tr>\n",
              "      <th>90567</th>\n",
              "      <td>943</td>\n",
              "      <td>1188</td>\n",
              "      <td>3</td>\n",
              "      <td>888640250</td>\n",
              "    </tr>\n",
              "    <tr>\n",
              "      <th>90568</th>\n",
              "      <td>943</td>\n",
              "      <td>1228</td>\n",
              "      <td>3</td>\n",
              "      <td>888640275</td>\n",
              "    </tr>\n",
              "    <tr>\n",
              "      <th>90569</th>\n",
              "      <td>943</td>\n",
              "      <td>1330</td>\n",
              "      <td>3</td>\n",
              "      <td>888692465</td>\n",
              "    </tr>\n",
              "  </tbody>\n",
              "</table>\n",
              "<p>90570 rows × 4 columns</p>\n",
              "</div>"
            ],
            "text/plain": [
              "       user_id  movie_id  rating  timestamp\n",
              "0            1         1       5  874965758\n",
              "1            1         2       3  876893171\n",
              "2            1         3       4  878542960\n",
              "3            1         4       3  876893119\n",
              "4            1         5       3  889751712\n",
              "...        ...       ...     ...        ...\n",
              "90565      943      1047       2  875502146\n",
              "90566      943      1074       4  888640250\n",
              "90567      943      1188       3  888640250\n",
              "90568      943      1228       3  888640275\n",
              "90569      943      1330       3  888692465\n",
              "\n",
              "[90570 rows x 4 columns]"
            ]
          },
          "metadata": {
            "tags": []
          }
        }
      ]
    },
    {
      "cell_type": "code",
      "metadata": {
        "id": "Q2I1im9bz__n"
      },
      "source": [
        "# movies.query('unknown == 1') # 장르가 알려지지 않은 경우는 제외하기로 하자."
      ],
      "execution_count": 2,
      "outputs": []
    },
    {
      "cell_type": "code",
      "metadata": {
        "id": "pmPLsPfmx1K1"
      },
      "source": [
        "# movies = movies.query('unknown != 1')\n",
        "movies.drop([\"release date\",\"video release date\",\"IMDb URL\",'unknown'], axis = 1, inplace = True)"
      ],
      "execution_count": 3,
      "outputs": []
    },
    {
      "cell_type": "code",
      "metadata": {
        "id": "xHr-ERBdx77v"
      },
      "source": [
        "# genres = movies.iloc[:,2:].apply(lambda x: [g for g,v in x.items() if v == 1], axis = 1) # 장르는 뭉쳐서 넣자\n",
        "genres = movies.iloc[:,2:].apply(lambda x:\"|\".join([g for g,v in x.items() if v == 1]), axis = 1)"
      ],
      "execution_count": 4,
      "outputs": []
    },
    {
      "cell_type": "code",
      "metadata": {
        "id": "ty5NxKhtzZOr",
        "outputId": "41113292-570b-4920-fc75-d57f8031cdb2",
        "colab": {
          "base_uri": "https://localhost:8080/",
          "height": 419
        }
      },
      "source": [
        "movies = pd.concat([movies.iloc[:,:2], genres], axis = 1)\n",
        "movies.rename(columns = {0:'genres'}, inplace=True)\n",
        "movies['genres'] = movies.genres.str.split('|')\n",
        "movies"
      ],
      "execution_count": 5,
      "outputs": [
        {
          "output_type": "execute_result",
          "data": {
            "text/html": [
              "<div>\n",
              "<style scoped>\n",
              "    .dataframe tbody tr th:only-of-type {\n",
              "        vertical-align: middle;\n",
              "    }\n",
              "\n",
              "    .dataframe tbody tr th {\n",
              "        vertical-align: top;\n",
              "    }\n",
              "\n",
              "    .dataframe thead th {\n",
              "        text-align: right;\n",
              "    }\n",
              "</style>\n",
              "<table border=\"1\" class=\"dataframe\">\n",
              "  <thead>\n",
              "    <tr style=\"text-align: right;\">\n",
              "      <th></th>\n",
              "      <th>movie id</th>\n",
              "      <th>movie title</th>\n",
              "      <th>genres</th>\n",
              "    </tr>\n",
              "  </thead>\n",
              "  <tbody>\n",
              "    <tr>\n",
              "      <th>0</th>\n",
              "      <td>1</td>\n",
              "      <td>Toy Story (1995)</td>\n",
              "      <td>[Animation, Children's, Comedy]</td>\n",
              "    </tr>\n",
              "    <tr>\n",
              "      <th>1</th>\n",
              "      <td>2</td>\n",
              "      <td>GoldenEye (1995)</td>\n",
              "      <td>[Action, Adventure, Thriller]</td>\n",
              "    </tr>\n",
              "    <tr>\n",
              "      <th>2</th>\n",
              "      <td>3</td>\n",
              "      <td>Four Rooms (1995)</td>\n",
              "      <td>[Thriller]</td>\n",
              "    </tr>\n",
              "    <tr>\n",
              "      <th>3</th>\n",
              "      <td>4</td>\n",
              "      <td>Get Shorty (1995)</td>\n",
              "      <td>[Action, Comedy, Drama]</td>\n",
              "    </tr>\n",
              "    <tr>\n",
              "      <th>4</th>\n",
              "      <td>5</td>\n",
              "      <td>Copycat (1995)</td>\n",
              "      <td>[Crime, Drama, Thriller]</td>\n",
              "    </tr>\n",
              "    <tr>\n",
              "      <th>...</th>\n",
              "      <td>...</td>\n",
              "      <td>...</td>\n",
              "      <td>...</td>\n",
              "    </tr>\n",
              "    <tr>\n",
              "      <th>1677</th>\n",
              "      <td>1678</td>\n",
              "      <td>Mat' i syn (1997)</td>\n",
              "      <td>[Drama]</td>\n",
              "    </tr>\n",
              "    <tr>\n",
              "      <th>1678</th>\n",
              "      <td>1679</td>\n",
              "      <td>B. Monkey (1998)</td>\n",
              "      <td>[Romance, Thriller]</td>\n",
              "    </tr>\n",
              "    <tr>\n",
              "      <th>1679</th>\n",
              "      <td>1680</td>\n",
              "      <td>Sliding Doors (1998)</td>\n",
              "      <td>[Drama, Romance]</td>\n",
              "    </tr>\n",
              "    <tr>\n",
              "      <th>1680</th>\n",
              "      <td>1681</td>\n",
              "      <td>You So Crazy (1994)</td>\n",
              "      <td>[Comedy]</td>\n",
              "    </tr>\n",
              "    <tr>\n",
              "      <th>1681</th>\n",
              "      <td>1682</td>\n",
              "      <td>Scream of Stone (Schrei aus Stein) (1991)</td>\n",
              "      <td>[Drama]</td>\n",
              "    </tr>\n",
              "  </tbody>\n",
              "</table>\n",
              "<p>1682 rows × 3 columns</p>\n",
              "</div>"
            ],
            "text/plain": [
              "      movie id  ...                           genres\n",
              "0            1  ...  [Animation, Children's, Comedy]\n",
              "1            2  ...    [Action, Adventure, Thriller]\n",
              "2            3  ...                       [Thriller]\n",
              "3            4  ...          [Action, Comedy, Drama]\n",
              "4            5  ...         [Crime, Drama, Thriller]\n",
              "...        ...  ...                              ...\n",
              "1677      1678  ...                          [Drama]\n",
              "1678      1679  ...              [Romance, Thriller]\n",
              "1679      1680  ...                 [Drama, Romance]\n",
              "1680      1681  ...                         [Comedy]\n",
              "1681      1682  ...                          [Drama]\n",
              "\n",
              "[1682 rows x 3 columns]"
            ]
          },
          "metadata": {
            "tags": []
          },
          "execution_count": 5
        }
      ]
    },
    {
      "cell_type": "code",
      "metadata": {
        "id": "Jz7DM8SKZr1V",
        "outputId": "b2f64d7f-4067-41f7-a47d-c60658dfdfec",
        "colab": {
          "base_uri": "https://localhost:8080/",
          "height": 419
        }
      },
      "source": [
        "ratings = ratings_raw.copy()\n",
        "ratings.drop(['timestamp', 'rating'], axis = 1, inplace = True)\n",
        "ratings"
      ],
      "execution_count": 6,
      "outputs": [
        {
          "output_type": "execute_result",
          "data": {
            "text/html": [
              "<div>\n",
              "<style scoped>\n",
              "    .dataframe tbody tr th:only-of-type {\n",
              "        vertical-align: middle;\n",
              "    }\n",
              "\n",
              "    .dataframe tbody tr th {\n",
              "        vertical-align: top;\n",
              "    }\n",
              "\n",
              "    .dataframe thead th {\n",
              "        text-align: right;\n",
              "    }\n",
              "</style>\n",
              "<table border=\"1\" class=\"dataframe\">\n",
              "  <thead>\n",
              "    <tr style=\"text-align: right;\">\n",
              "      <th></th>\n",
              "      <th>user_id</th>\n",
              "      <th>movie_id</th>\n",
              "    </tr>\n",
              "  </thead>\n",
              "  <tbody>\n",
              "    <tr>\n",
              "      <th>0</th>\n",
              "      <td>1</td>\n",
              "      <td>1</td>\n",
              "    </tr>\n",
              "    <tr>\n",
              "      <th>1</th>\n",
              "      <td>1</td>\n",
              "      <td>2</td>\n",
              "    </tr>\n",
              "    <tr>\n",
              "      <th>2</th>\n",
              "      <td>1</td>\n",
              "      <td>3</td>\n",
              "    </tr>\n",
              "    <tr>\n",
              "      <th>3</th>\n",
              "      <td>1</td>\n",
              "      <td>4</td>\n",
              "    </tr>\n",
              "    <tr>\n",
              "      <th>4</th>\n",
              "      <td>1</td>\n",
              "      <td>5</td>\n",
              "    </tr>\n",
              "    <tr>\n",
              "      <th>...</th>\n",
              "      <td>...</td>\n",
              "      <td>...</td>\n",
              "    </tr>\n",
              "    <tr>\n",
              "      <th>90565</th>\n",
              "      <td>943</td>\n",
              "      <td>1047</td>\n",
              "    </tr>\n",
              "    <tr>\n",
              "      <th>90566</th>\n",
              "      <td>943</td>\n",
              "      <td>1074</td>\n",
              "    </tr>\n",
              "    <tr>\n",
              "      <th>90567</th>\n",
              "      <td>943</td>\n",
              "      <td>1188</td>\n",
              "    </tr>\n",
              "    <tr>\n",
              "      <th>90568</th>\n",
              "      <td>943</td>\n",
              "      <td>1228</td>\n",
              "    </tr>\n",
              "    <tr>\n",
              "      <th>90569</th>\n",
              "      <td>943</td>\n",
              "      <td>1330</td>\n",
              "    </tr>\n",
              "  </tbody>\n",
              "</table>\n",
              "<p>90570 rows × 2 columns</p>\n",
              "</div>"
            ],
            "text/plain": [
              "       user_id  movie_id\n",
              "0            1         1\n",
              "1            1         2\n",
              "2            1         3\n",
              "3            1         4\n",
              "4            1         5\n",
              "...        ...       ...\n",
              "90565      943      1047\n",
              "90566      943      1074\n",
              "90567      943      1188\n",
              "90568      943      1228\n",
              "90569      943      1330\n",
              "\n",
              "[90570 rows x 2 columns]"
            ]
          },
          "metadata": {
            "tags": []
          },
          "execution_count": 6
        }
      ]
    },
    {
      "cell_type": "markdown",
      "metadata": {
        "id": "bc9qeXCrZr3J"
      },
      "source": [
        "# find_path\n",
        "- Entity : movie, user, genre\n",
        "- Entity types : user, movie, type\n",
        "- Relations : rate, rate_, category, category_\n",
        "  > User-`rate`-Movie, Movie-`rate_`-User  \n",
        "  > Genres-`category_`-Movie, Movie-`category`-Genres\n",
        "\n"
      ]
    },
    {
      "cell_type": "code",
      "metadata": {
        "id": "VTEjhYImTZ64",
        "outputId": "9779d929-9240-4973-e99f-6385061613f4",
        "colab": {
          "base_uri": "https://localhost:8080/",
          "height": 419
        }
      },
      "source": [
        "ratings['u_user_id'] = ratings.user_id.map(lambda x: f'u{x}')\n",
        "ratings['m_movie_id'] = ratings.movie_id.map(lambda x: f'm{x}')\n",
        "ratings"
      ],
      "execution_count": 8,
      "outputs": [
        {
          "output_type": "execute_result",
          "data": {
            "text/html": [
              "<div>\n",
              "<style scoped>\n",
              "    .dataframe tbody tr th:only-of-type {\n",
              "        vertical-align: middle;\n",
              "    }\n",
              "\n",
              "    .dataframe tbody tr th {\n",
              "        vertical-align: top;\n",
              "    }\n",
              "\n",
              "    .dataframe thead th {\n",
              "        text-align: right;\n",
              "    }\n",
              "</style>\n",
              "<table border=\"1\" class=\"dataframe\">\n",
              "  <thead>\n",
              "    <tr style=\"text-align: right;\">\n",
              "      <th></th>\n",
              "      <th>user_id</th>\n",
              "      <th>movie_id</th>\n",
              "      <th>u_user_id</th>\n",
              "      <th>m_movie_id</th>\n",
              "    </tr>\n",
              "  </thead>\n",
              "  <tbody>\n",
              "    <tr>\n",
              "      <th>0</th>\n",
              "      <td>1</td>\n",
              "      <td>1</td>\n",
              "      <td>u1</td>\n",
              "      <td>m1</td>\n",
              "    </tr>\n",
              "    <tr>\n",
              "      <th>1</th>\n",
              "      <td>1</td>\n",
              "      <td>2</td>\n",
              "      <td>u1</td>\n",
              "      <td>m2</td>\n",
              "    </tr>\n",
              "    <tr>\n",
              "      <th>2</th>\n",
              "      <td>1</td>\n",
              "      <td>3</td>\n",
              "      <td>u1</td>\n",
              "      <td>m3</td>\n",
              "    </tr>\n",
              "    <tr>\n",
              "      <th>3</th>\n",
              "      <td>1</td>\n",
              "      <td>4</td>\n",
              "      <td>u1</td>\n",
              "      <td>m4</td>\n",
              "    </tr>\n",
              "    <tr>\n",
              "      <th>4</th>\n",
              "      <td>1</td>\n",
              "      <td>5</td>\n",
              "      <td>u1</td>\n",
              "      <td>m5</td>\n",
              "    </tr>\n",
              "    <tr>\n",
              "      <th>...</th>\n",
              "      <td>...</td>\n",
              "      <td>...</td>\n",
              "      <td>...</td>\n",
              "      <td>...</td>\n",
              "    </tr>\n",
              "    <tr>\n",
              "      <th>90565</th>\n",
              "      <td>943</td>\n",
              "      <td>1047</td>\n",
              "      <td>u943</td>\n",
              "      <td>m1047</td>\n",
              "    </tr>\n",
              "    <tr>\n",
              "      <th>90566</th>\n",
              "      <td>943</td>\n",
              "      <td>1074</td>\n",
              "      <td>u943</td>\n",
              "      <td>m1074</td>\n",
              "    </tr>\n",
              "    <tr>\n",
              "      <th>90567</th>\n",
              "      <td>943</td>\n",
              "      <td>1188</td>\n",
              "      <td>u943</td>\n",
              "      <td>m1188</td>\n",
              "    </tr>\n",
              "    <tr>\n",
              "      <th>90568</th>\n",
              "      <td>943</td>\n",
              "      <td>1228</td>\n",
              "      <td>u943</td>\n",
              "      <td>m1228</td>\n",
              "    </tr>\n",
              "    <tr>\n",
              "      <th>90569</th>\n",
              "      <td>943</td>\n",
              "      <td>1330</td>\n",
              "      <td>u943</td>\n",
              "      <td>m1330</td>\n",
              "    </tr>\n",
              "  </tbody>\n",
              "</table>\n",
              "<p>90570 rows × 4 columns</p>\n",
              "</div>"
            ],
            "text/plain": [
              "       user_id  movie_id u_user_id m_movie_id\n",
              "0            1         1        u1         m1\n",
              "1            1         2        u1         m2\n",
              "2            1         3        u1         m3\n",
              "3            1         4        u1         m4\n",
              "4            1         5        u1         m5\n",
              "...        ...       ...       ...        ...\n",
              "90565      943      1047      u943      m1047\n",
              "90566      943      1074      u943      m1074\n",
              "90567      943      1188      u943      m1188\n",
              "90568      943      1228      u943      m1228\n",
              "90569      943      1330      u943      m1330\n",
              "\n",
              "[90570 rows x 4 columns]"
            ]
          },
          "metadata": {
            "tags": []
          },
          "execution_count": 8
        }
      ]
    },
    {
      "cell_type": "code",
      "metadata": {
        "id": "P-3IPcx8RaHX",
        "outputId": "0894be49-f014-4f70-a5c2-34bc40a8088f",
        "colab": {
          "base_uri": "https://localhost:8080/",
          "height": 35
        }
      },
      "source": [
        "user_to_movies = ratings.groupby('u_user_id').m_movie_id.apply(list).to_dict()\n",
        "user_to_movies['u1'][:5]"
      ],
      "execution_count": 10,
      "outputs": [
        {
          "output_type": "execute_result",
          "data": {
            "text/plain": [
              "['m1', 'm2', 'm3', 'm4', 'm5']"
            ]
          },
          "metadata": {
            "tags": []
          },
          "execution_count": 10
        }
      ]
    },
    {
      "cell_type": "code",
      "metadata": {
        "id": "QH6jW55BSytx",
        "outputId": "58f32e1a-8bf2-4310-eeda-536c30afb652",
        "colab": {
          "base_uri": "https://localhost:8080/",
          "height": 419
        }
      },
      "source": [
        "movies['m_movie_id'] = movies['movie id'].map(lambda x: f'm{x}')\n",
        "movies"
      ],
      "execution_count": 11,
      "outputs": [
        {
          "output_type": "execute_result",
          "data": {
            "text/html": [
              "<div>\n",
              "<style scoped>\n",
              "    .dataframe tbody tr th:only-of-type {\n",
              "        vertical-align: middle;\n",
              "    }\n",
              "\n",
              "    .dataframe tbody tr th {\n",
              "        vertical-align: top;\n",
              "    }\n",
              "\n",
              "    .dataframe thead th {\n",
              "        text-align: right;\n",
              "    }\n",
              "</style>\n",
              "<table border=\"1\" class=\"dataframe\">\n",
              "  <thead>\n",
              "    <tr style=\"text-align: right;\">\n",
              "      <th></th>\n",
              "      <th>movie id</th>\n",
              "      <th>movie title</th>\n",
              "      <th>genres</th>\n",
              "      <th>m_movie_id</th>\n",
              "    </tr>\n",
              "  </thead>\n",
              "  <tbody>\n",
              "    <tr>\n",
              "      <th>0</th>\n",
              "      <td>1</td>\n",
              "      <td>Toy Story (1995)</td>\n",
              "      <td>[Animation, Children's, Comedy]</td>\n",
              "      <td>m1</td>\n",
              "    </tr>\n",
              "    <tr>\n",
              "      <th>1</th>\n",
              "      <td>2</td>\n",
              "      <td>GoldenEye (1995)</td>\n",
              "      <td>[Action, Adventure, Thriller]</td>\n",
              "      <td>m2</td>\n",
              "    </tr>\n",
              "    <tr>\n",
              "      <th>2</th>\n",
              "      <td>3</td>\n",
              "      <td>Four Rooms (1995)</td>\n",
              "      <td>[Thriller]</td>\n",
              "      <td>m3</td>\n",
              "    </tr>\n",
              "    <tr>\n",
              "      <th>3</th>\n",
              "      <td>4</td>\n",
              "      <td>Get Shorty (1995)</td>\n",
              "      <td>[Action, Comedy, Drama]</td>\n",
              "      <td>m4</td>\n",
              "    </tr>\n",
              "    <tr>\n",
              "      <th>4</th>\n",
              "      <td>5</td>\n",
              "      <td>Copycat (1995)</td>\n",
              "      <td>[Crime, Drama, Thriller]</td>\n",
              "      <td>m5</td>\n",
              "    </tr>\n",
              "    <tr>\n",
              "      <th>...</th>\n",
              "      <td>...</td>\n",
              "      <td>...</td>\n",
              "      <td>...</td>\n",
              "      <td>...</td>\n",
              "    </tr>\n",
              "    <tr>\n",
              "      <th>1677</th>\n",
              "      <td>1678</td>\n",
              "      <td>Mat' i syn (1997)</td>\n",
              "      <td>[Drama]</td>\n",
              "      <td>m1678</td>\n",
              "    </tr>\n",
              "    <tr>\n",
              "      <th>1678</th>\n",
              "      <td>1679</td>\n",
              "      <td>B. Monkey (1998)</td>\n",
              "      <td>[Romance, Thriller]</td>\n",
              "      <td>m1679</td>\n",
              "    </tr>\n",
              "    <tr>\n",
              "      <th>1679</th>\n",
              "      <td>1680</td>\n",
              "      <td>Sliding Doors (1998)</td>\n",
              "      <td>[Drama, Romance]</td>\n",
              "      <td>m1680</td>\n",
              "    </tr>\n",
              "    <tr>\n",
              "      <th>1680</th>\n",
              "      <td>1681</td>\n",
              "      <td>You So Crazy (1994)</td>\n",
              "      <td>[Comedy]</td>\n",
              "      <td>m1681</td>\n",
              "    </tr>\n",
              "    <tr>\n",
              "      <th>1681</th>\n",
              "      <td>1682</td>\n",
              "      <td>Scream of Stone (Schrei aus Stein) (1991)</td>\n",
              "      <td>[Drama]</td>\n",
              "      <td>m1682</td>\n",
              "    </tr>\n",
              "  </tbody>\n",
              "</table>\n",
              "<p>1682 rows × 4 columns</p>\n",
              "</div>"
            ],
            "text/plain": [
              "      movie id  ... m_movie_id\n",
              "0            1  ...         m1\n",
              "1            2  ...         m2\n",
              "2            3  ...         m3\n",
              "3            4  ...         m4\n",
              "4            5  ...         m5\n",
              "...        ...  ...        ...\n",
              "1677      1678  ...      m1678\n",
              "1678      1679  ...      m1679\n",
              "1679      1680  ...      m1680\n",
              "1680      1681  ...      m1681\n",
              "1681      1682  ...      m1682\n",
              "\n",
              "[1682 rows x 4 columns]"
            ]
          },
          "metadata": {
            "tags": []
          },
          "execution_count": 11
        }
      ]
    },
    {
      "cell_type": "code",
      "metadata": {
        "id": "6Bws4YzjOqJC",
        "outputId": "fbfef60e-b876-475a-f1f6-b1df3b968166",
        "colab": {
          "base_uri": "https://localhost:8080/",
          "height": 35
        }
      },
      "source": [
        "movie_to_user_genre = movies.set_index('m_movie_id').genres.to_dict()\n",
        "for uid, movie_list in user_to_movies.items():\n",
        "    for movie in movie_list:\n",
        "        movie_to_user_genre[movie].append(uid)\n",
        "\n",
        "movie_to_user_genre['m1'][:5]"
      ],
      "execution_count": 15,
      "outputs": [
        {
          "output_type": "execute_result",
          "data": {
            "text/plain": [
              "['Animation', \"Children's\", 'Comedy', 'u1', 'u10']"
            ]
          },
          "metadata": {
            "tags": []
          },
          "execution_count": 15
        }
      ]
    },
    {
      "cell_type": "code",
      "metadata": {
        "id": "zH1tAU-cRnpZ",
        "outputId": "bdb602ce-7fe2-44a4-fac5-bc4ff58c4392",
        "colab": {
          "base_uri": "https://localhost:8080/",
          "height": 35
        }
      },
      "source": [
        "from collections import defaultdict\n",
        "\n",
        "movie_to_genre = movies.set_index('m_movie_id').genres.to_dict()\n",
        "genre_to_movies = defaultdict(list)\n",
        "for movie, genres in movie_to_genre.items():\n",
        "    for genre in genres:\n",
        "        genre_to_movies[genre].append(movie)\n",
        "\n",
        "genre_to_movies['Animation'][:5]"
      ],
      "execution_count": 18,
      "outputs": [
        {
          "output_type": "execute_result",
          "data": {
            "text/plain": [
              "['m1', 'm71', 'm95', 'm99', 'm101']"
            ]
          },
          "metadata": {
            "tags": []
          },
          "execution_count": 18
        }
      ]
    },
    {
      "cell_type": "code",
      "metadata": {
        "id": "-G8ISbc-Zr3f"
      },
      "source": [
        "positive_path = []\n",
        "\n",
        "def get_relation(head_entity, end_entity):\n",
        "    # 나중에 test 할 때 새로들어오는 movie/genre/user id에 대한 처리도 넣어주자\n",
        "    # print(head_entity, end_entity)\n",
        "    head_entity, end_entity = head_entity[0], end_entity[0]\n",
        "\n",
        "    if head_entity == 'm':\n",
        "        if end_entity == 'u':\n",
        "            # return relation_dict[\"_rate\"]\n",
        "            return 'rate'\n",
        "        else: # genre\n",
        "            return 'category'\n",
        "\n",
        "    elif head_entity == 'u':\n",
        "        # if end_entity == 'm': # 무조건 movie일테니까\n",
        "        return 'rate_'\n",
        "\n",
        "    else: # genre\n",
        "        return 'category_'\n",
        "\n",
        "def find_path(head_entity, next_entities, depth): # init ; user_behavior\n",
        "\n",
        "    if depth >= 3:\n",
        "        for entity in next_entities:\n",
        "            if visited[entity]:\n",
        "                continue\n",
        "            if entity[0] == 'm' and entity in user_behavior:\n",
        "                positive_path.append(path + [entity])\n",
        "                # print(\" \".join(map(str,path + [entity])))\n",
        "            # else:\n",
        "            #     negative_path.append(path + [movie])\n",
        "        return\n",
        "    \n",
        "    path.append(head_entity)\n",
        "    for entity in next_entities: # movie에서 갈 수 있는 모든 entity. user들, genre들\n",
        "        if visited[entity]:\n",
        "            continue\n",
        "        visited[entity] = True\n",
        "        path.append(get_relation(head_entity, entity))\n",
        "\n",
        "        if entity[0] == 'u':\n",
        "            # 이 user가 rate한 item list로 이동한다.\n",
        "            find_path(entity, user_to_movies[entity], depth+1)\n",
        "        elif entity[0] == 'm':\n",
        "            find_path(entity, movie_to_user_genre[entity], depth + 1)\n",
        "        else: # i.e. type is genre:\n",
        "            find_path(entity, genre_to_movies[entity], depth + 1)\n",
        "\n",
        "        path.pop() # relation 제거\n",
        "\n",
        "    path.pop() # head_entity 제거"
      ],
      "execution_count": 48,
      "outputs": []
    },
    {
      "cell_type": "code",
      "metadata": {
        "id": "5ck6ag_BZr3m",
        "outputId": "c056641f-cb83-4c9d-cb34-507effeecf37",
        "colab": {
          "base_uri": "https://localhost:8080/",
          "height": 35
        }
      },
      "source": [
        "import time\n",
        "\n",
        "path = []\n",
        "visited = defaultdict(lambda : False)\n",
        "\n",
        "start = time.time()\n",
        "\n",
        "user = 'u8'\n",
        "user_behavior = user_to_movies[user]\n",
        "\n",
        "find_path(user, user_behavior, 1)\n",
        "\n",
        "print(time.time() - start)"
      ],
      "execution_count": 49,
      "outputs": [
        {
          "output_type": "stream",
          "text": [
            "0.08255434036254883\n"
          ],
          "name": "stdout"
        }
      ]
    },
    {
      "cell_type": "code",
      "metadata": {
        "id": "pQJ2jnAYZr3y",
        "outputId": "f4b14f87-f7ba-4c0c-991c-f43f156e270c",
        "colab": {
          "base_uri": "https://localhost:8080/",
          "height": 53
        }
      },
      "source": [
        "print(positive_path[0])\n",
        "print(positive_path[-1])"
      ],
      "execution_count": 50,
      "outputs": [
        {
          "output_type": "stream",
          "text": [
            "['u8', 'rate_', 'm7', 'category', 'm55']\n",
            "['u8', 'rate_', 'm510', 'rate', 'm566']\n"
          ],
          "name": "stdout"
        }
      ]
    },
    {
      "cell_type": "code",
      "metadata": {
        "id": "tyAxBxO0Zr32",
        "outputId": "7f99e66b-bdc4-4f97-c301-b4a7c0ae19d7",
        "colab": {
          "base_uri": "https://localhost:8080/",
          "height": 35
        }
      },
      "source": [
        "len(positive_path) # 2만개의 path를 찾는데에 1초 이하가 소요된다."
      ],
      "execution_count": 51,
      "outputs": [
        {
          "output_type": "execute_result",
          "data": {
            "text/plain": [
              "8568"
            ]
          },
          "metadata": {
            "tags": []
          },
          "execution_count": 51
        }
      ]
    },
    {
      "cell_type": "code",
      "metadata": {
        "id": "qGknMjVvnz7Z",
        "outputId": "f377f447-90ad-4c14-80d4-aaf19baade26",
        "colab": {
          "base_uri": "https://localhost:8080/",
          "height": 419
        }
      },
      "source": [
        "paths = pd.DataFrame(positive_path, columns = ['movie_id_1','genre_1','movie_id_2','genre_2','movie_id_3'])\n",
        "paths"
      ],
      "execution_count": 52,
      "outputs": [
        {
          "output_type": "execute_result",
          "data": {
            "text/html": [
              "<div>\n",
              "<style scoped>\n",
              "    .dataframe tbody tr th:only-of-type {\n",
              "        vertical-align: middle;\n",
              "    }\n",
              "\n",
              "    .dataframe tbody tr th {\n",
              "        vertical-align: top;\n",
              "    }\n",
              "\n",
              "    .dataframe thead th {\n",
              "        text-align: right;\n",
              "    }\n",
              "</style>\n",
              "<table border=\"1\" class=\"dataframe\">\n",
              "  <thead>\n",
              "    <tr style=\"text-align: right;\">\n",
              "      <th></th>\n",
              "      <th>movie_id_1</th>\n",
              "      <th>genre_1</th>\n",
              "      <th>movie_id_2</th>\n",
              "      <th>genre_2</th>\n",
              "      <th>movie_id_3</th>\n",
              "    </tr>\n",
              "  </thead>\n",
              "  <tbody>\n",
              "    <tr>\n",
              "      <th>0</th>\n",
              "      <td>u8</td>\n",
              "      <td>rate_</td>\n",
              "      <td>m7</td>\n",
              "      <td>category</td>\n",
              "      <td>m55</td>\n",
              "    </tr>\n",
              "    <tr>\n",
              "      <th>1</th>\n",
              "      <td>u8</td>\n",
              "      <td>rate_</td>\n",
              "      <td>m7</td>\n",
              "      <td>category</td>\n",
              "      <td>m56</td>\n",
              "    </tr>\n",
              "    <tr>\n",
              "      <th>2</th>\n",
              "      <td>u8</td>\n",
              "      <td>rate_</td>\n",
              "      <td>m7</td>\n",
              "      <td>category</td>\n",
              "      <td>m127</td>\n",
              "    </tr>\n",
              "    <tr>\n",
              "      <th>3</th>\n",
              "      <td>u8</td>\n",
              "      <td>rate_</td>\n",
              "      <td>m7</td>\n",
              "      <td>category</td>\n",
              "      <td>m172</td>\n",
              "    </tr>\n",
              "    <tr>\n",
              "      <th>4</th>\n",
              "      <td>u8</td>\n",
              "      <td>rate_</td>\n",
              "      <td>m7</td>\n",
              "      <td>category</td>\n",
              "      <td>m187</td>\n",
              "    </tr>\n",
              "    <tr>\n",
              "      <th>...</th>\n",
              "      <td>...</td>\n",
              "      <td>...</td>\n",
              "      <td>...</td>\n",
              "      <td>...</td>\n",
              "      <td>...</td>\n",
              "    </tr>\n",
              "    <tr>\n",
              "      <th>8563</th>\n",
              "      <td>u8</td>\n",
              "      <td>rate_</td>\n",
              "      <td>m358</td>\n",
              "      <td>rate</td>\n",
              "      <td>m689</td>\n",
              "    </tr>\n",
              "    <tr>\n",
              "      <th>8564</th>\n",
              "      <td>u8</td>\n",
              "      <td>rate_</td>\n",
              "      <td>m358</td>\n",
              "      <td>rate</td>\n",
              "      <td>m689</td>\n",
              "    </tr>\n",
              "    <tr>\n",
              "      <th>8565</th>\n",
              "      <td>u8</td>\n",
              "      <td>rate_</td>\n",
              "      <td>m358</td>\n",
              "      <td>rate</td>\n",
              "      <td>m688</td>\n",
              "    </tr>\n",
              "    <tr>\n",
              "      <th>8566</th>\n",
              "      <td>u8</td>\n",
              "      <td>rate_</td>\n",
              "      <td>m358</td>\n",
              "      <td>rate</td>\n",
              "      <td>m689</td>\n",
              "    </tr>\n",
              "    <tr>\n",
              "      <th>8567</th>\n",
              "      <td>u8</td>\n",
              "      <td>rate_</td>\n",
              "      <td>m510</td>\n",
              "      <td>rate</td>\n",
              "      <td>m566</td>\n",
              "    </tr>\n",
              "  </tbody>\n",
              "</table>\n",
              "<p>8568 rows × 5 columns</p>\n",
              "</div>"
            ],
            "text/plain": [
              "     movie_id_1 genre_1 movie_id_2   genre_2 movie_id_3\n",
              "0            u8   rate_         m7  category        m55\n",
              "1            u8   rate_         m7  category        m56\n",
              "2            u8   rate_         m7  category       m127\n",
              "3            u8   rate_         m7  category       m172\n",
              "4            u8   rate_         m7  category       m187\n",
              "...         ...     ...        ...       ...        ...\n",
              "8563         u8   rate_       m358      rate       m689\n",
              "8564         u8   rate_       m358      rate       m689\n",
              "8565         u8   rate_       m358      rate       m688\n",
              "8566         u8   rate_       m358      rate       m689\n",
              "8567         u8   rate_       m510      rate       m566\n",
              "\n",
              "[8568 rows x 5 columns]"
            ]
          },
          "metadata": {
            "tags": []
          },
          "execution_count": 52
        }
      ]
    },
    {
      "cell_type": "code",
      "metadata": {
        "id": "D8U6y_FXonUX",
        "outputId": "d7f7cfd2-1a35-4755-fcd9-bd1903f5eb96",
        "colab": {
          "base_uri": "https://localhost:8080/",
          "height": 179
        }
      },
      "source": [
        "# 같은 user-item 사이의 path는 보통 몇개씩있을까?\n",
        "\n",
        "# 보통 약 161개의 path가 발견된다.\n",
        "\n",
        "paths.groupby('movie_id_3').apply(lambda x: len(x)).describe()"
      ],
      "execution_count": 53,
      "outputs": [
        {
          "output_type": "execute_result",
          "data": {
            "text/plain": [
              "count     48.000000\n",
              "mean     178.500000\n",
              "std       92.644367\n",
              "min        9.000000\n",
              "25%      116.750000\n",
              "50%      161.500000\n",
              "75%      234.000000\n",
              "max      414.000000\n",
              "dtype: float64"
            ]
          },
          "metadata": {
            "tags": []
          },
          "execution_count": 53
        }
      ]
    }
  ]
}